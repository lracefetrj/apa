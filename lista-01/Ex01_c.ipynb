{
  "nbformat": 4,
  "nbformat_minor": 0,
  "metadata": {
    "colab": {
      "provenance": [],
      "collapsed_sections": [],
      "authorship_tag": "ABX9TyMNmNKcTOzCreu7VzQU9B3E",
      "include_colab_link": true
    },
    "kernelspec": {
      "name": "python3",
      "display_name": "Python 3"
    },
    "language_info": {
      "name": "python"
    }
  },
  "cells": [
    {
      "cell_type": "markdown",
      "metadata": {
        "id": "view-in-github",
        "colab_type": "text"
      },
      "source": [
        "<a href=\"https://colab.research.google.com/github/lracefetrj/apa/blob/main/lista-01/Ex01_c.ipynb\" target=\"_parent\"><img src=\"https://colab.research.google.com/assets/colab-badge.svg\" alt=\"Open In Colab\"/></a>"
      ]
    },
    {
      "cell_type": "code",
      "execution_count": 61,
      "metadata": {
        "colab": {
          "base_uri": "https://localhost:8080/"
        },
        "id": "drP3vYDXP6lE",
        "outputId": "8d1e407f-ce2a-405b-9088-5cef124d6d00"
      },
      "outputs": [
        {
          "output_type": "stream",
          "name": "stdout",
          "text": [
            "Writing /content/APA/Lista001/Ex01.c\n"
          ]
        }
      ],
      "source": [
        "%%writefile /content/APA/Lista001/Ex01.c\n",
        "\n",
        "#include <stdio.h>\n",
        "#include <stdlib.h>\n",
        "#include <stdint.h>\n",
        "#include <string.h>\n",
        "#include <math.h>\n",
        "\n",
        "int main (int argc, char **argv)\n",
        "{\n",
        "    \n",
        "    if (argc < 2)\n",
        "    {\n",
        "        printf (\"Modo de usar: ./Ex01 <N>\\n\");\n",
        "        printf (\"Onde: N é um número inteiro maior do que um (N > 1).\\n\");\n",
        "        printf (\"Exemplo: ./Ex01 22\\n\");\n",
        "        return EXIT_FAILURE;\n",
        "    }\n",
        "    \n",
        "    uint64_t n = atol (argv[1]);\n",
        "    \n",
        "    if (n <= 1)\n",
        "    {\n",
        "        printf (\"N tem que ser maior do que um (N > 1).\\n\");\n",
        "        return EXIT_FAILURE;\n",
        "    }\n",
        "    \n",
        "    char *array = (char *) malloc ((n + 1) * sizeof (char));\n",
        "    \n",
        "    if (array == NULL)\n",
        "    {\n",
        "        printf (\"Erro na alocação da memória. Valor de N (%lu) muito grande.\\n\", n);\n",
        "        return EXIT_FAILURE;\n",
        "    }\n",
        "    \n",
        "    memset (array, 0, (n + 1) * sizeof (char));\n",
        "    \n",
        "    uint64_t k, l, raiz = sqrtl (n);\n",
        "    \n",
        "    for (uint64_t j = 2; j <= raiz; j++)\n",
        "    {\n",
        "        k = 0;\n",
        "        if (*(array + j) == 0)\n",
        "        {\n",
        "            while ((l = (j * j + k * j)) <= n)\n",
        "            {\n",
        "                *(array + l) = 1;\n",
        "                k++;\n",
        "            }\n",
        "        }\n",
        "    }\n",
        "    \n",
        "    for (uint64_t j = 2; j <= n; j++)\n",
        "    {\n",
        "        if (*(array + j) == 0)\n",
        "            printf (\"%lu \", j);\n",
        "    }\n",
        "    \n",
        "    free (array);\n",
        "    \n",
        "    printf (\"\\nFim!\\n\");\n",
        "    return EXIT_SUCCESS;\n",
        "}\n"
      ]
    },
    {
      "cell_type": "code",
      "source": [
        "!ls -al /content/APA/Lista001/"
      ],
      "metadata": {
        "colab": {
          "base_uri": "https://localhost:8080/"
        },
        "id": "wMcgAqzaRM0r",
        "outputId": "9c07e6c5-f6fd-48bd-c763-66039af47acb"
      },
      "execution_count": 64,
      "outputs": [
        {
          "output_type": "stream",
          "name": "stdout",
          "text": [
            "total 28\n",
            "drwxr-xr-x 3 root root 4096 Oct  8 21:45 .\n",
            "drwxr-xr-x 4 root root 4096 Oct  8 21:32 ..\n",
            "-rwxr-xr-x 1 root root 8520 Oct  8 21:45 Ex01\n",
            "-rw-r--r-- 1 root root 1294 Oct  8 21:45 Ex01.c\n",
            "drwxr-xr-x 2 root root 4096 Oct  8 21:45 .ipynb_checkpoints\n"
          ]
        }
      ]
    },
    {
      "cell_type": "code",
      "source": [
        "%%shell\n",
        "\n",
        "cc  -Wall -O2 -o /content/APA/Lista001/Ex01 /content/APA/Lista001/Ex01.c -lm"
      ],
      "metadata": {
        "colab": {
          "base_uri": "https://localhost:8080/"
        },
        "id": "QbfhFwsnRVr4",
        "outputId": "1f536215-1fd9-46cd-a1a9-66f3ebc56d1c"
      },
      "execution_count": 63,
      "outputs": [
        {
          "output_type": "execute_result",
          "data": {
            "text/plain": []
          },
          "metadata": {},
          "execution_count": 63
        }
      ]
    },
    {
      "cell_type": "code",
      "source": [
        "%%shell \n",
        "\n",
        "time ./APA/Lista001/Ex01 100"
      ],
      "metadata": {
        "colab": {
          "base_uri": "https://localhost:8080/"
        },
        "id": "rTT-nNiySAhc",
        "outputId": "0c56e027-6c46-47f8-e9ba-94e6161794db"
      },
      "execution_count": 66,
      "outputs": [
        {
          "output_type": "stream",
          "name": "stdout",
          "text": [
            "2 3 5 7 11 13 17 19 23 29 31 37 41 43 47 53 59 61 67 71 73 79 83 89 97 \n",
            "Fim!\n",
            "\n",
            "real\t0m0.003s\n",
            "user\t0m0.001s\n",
            "sys\t0m0.002s\n"
          ]
        },
        {
          "output_type": "execute_result",
          "data": {
            "text/plain": []
          },
          "metadata": {},
          "execution_count": 66
        }
      ]
    },
    {
      "cell_type": "code",
      "source": [],
      "metadata": {
        "id": "kCllmSwJSMoV"
      },
      "execution_count": null,
      "outputs": []
    }
  ]
}